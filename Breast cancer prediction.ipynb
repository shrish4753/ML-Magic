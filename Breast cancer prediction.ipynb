{
 "cells": [
  {
   "cell_type": "code",
   "execution_count": 2,
   "metadata": {},
   "outputs": [],
   "source": [
    "import  numpy as np\n",
    "import pandas as pd\n",
    "import seaborn as sns\n",
    "import matplotlib.pyplot as plt"
   ]
  },
  {
   "cell_type": "code",
   "execution_count": 3,
   "metadata": {},
   "outputs": [],
   "source": [
    "df=pd.read_csv('Breast_cancer_data.csv')"
   ]
  },
  {
   "cell_type": "code",
   "execution_count": 4,
   "metadata": {},
   "outputs": [
    {
     "data": {
      "text/html": [
       "<div>\n",
       "<style scoped>\n",
       "    .dataframe tbody tr th:only-of-type {\n",
       "        vertical-align: middle;\n",
       "    }\n",
       "\n",
       "    .dataframe tbody tr th {\n",
       "        vertical-align: top;\n",
       "    }\n",
       "\n",
       "    .dataframe thead th {\n",
       "        text-align: right;\n",
       "    }\n",
       "</style>\n",
       "<table border=\"1\" class=\"dataframe\">\n",
       "  <thead>\n",
       "    <tr style=\"text-align: right;\">\n",
       "      <th></th>\n",
       "      <th>mean_radius</th>\n",
       "      <th>mean_texture</th>\n",
       "      <th>mean_perimeter</th>\n",
       "      <th>mean_area</th>\n",
       "      <th>mean_smoothness</th>\n",
       "      <th>diagnosis</th>\n",
       "    </tr>\n",
       "  </thead>\n",
       "  <tbody>\n",
       "    <tr>\n",
       "      <th>0</th>\n",
       "      <td>17.99</td>\n",
       "      <td>10.38</td>\n",
       "      <td>122.80</td>\n",
       "      <td>1001.0</td>\n",
       "      <td>0.11840</td>\n",
       "      <td>0</td>\n",
       "    </tr>\n",
       "    <tr>\n",
       "      <th>1</th>\n",
       "      <td>20.57</td>\n",
       "      <td>17.77</td>\n",
       "      <td>132.90</td>\n",
       "      <td>1326.0</td>\n",
       "      <td>0.08474</td>\n",
       "      <td>0</td>\n",
       "    </tr>\n",
       "    <tr>\n",
       "      <th>2</th>\n",
       "      <td>19.69</td>\n",
       "      <td>21.25</td>\n",
       "      <td>130.00</td>\n",
       "      <td>1203.0</td>\n",
       "      <td>0.10960</td>\n",
       "      <td>0</td>\n",
       "    </tr>\n",
       "    <tr>\n",
       "      <th>3</th>\n",
       "      <td>11.42</td>\n",
       "      <td>20.38</td>\n",
       "      <td>77.58</td>\n",
       "      <td>386.1</td>\n",
       "      <td>0.14250</td>\n",
       "      <td>0</td>\n",
       "    </tr>\n",
       "    <tr>\n",
       "      <th>4</th>\n",
       "      <td>20.29</td>\n",
       "      <td>14.34</td>\n",
       "      <td>135.10</td>\n",
       "      <td>1297.0</td>\n",
       "      <td>0.10030</td>\n",
       "      <td>0</td>\n",
       "    </tr>\n",
       "  </tbody>\n",
       "</table>\n",
       "</div>"
      ],
      "text/plain": [
       "   mean_radius  mean_texture  mean_perimeter  mean_area  mean_smoothness  \\\n",
       "0        17.99         10.38          122.80     1001.0          0.11840   \n",
       "1        20.57         17.77          132.90     1326.0          0.08474   \n",
       "2        19.69         21.25          130.00     1203.0          0.10960   \n",
       "3        11.42         20.38           77.58      386.1          0.14250   \n",
       "4        20.29         14.34          135.10     1297.0          0.10030   \n",
       "\n",
       "   diagnosis  \n",
       "0          0  \n",
       "1          0  \n",
       "2          0  \n",
       "3          0  \n",
       "4          0  "
      ]
     },
     "execution_count": 4,
     "metadata": {},
     "output_type": "execute_result"
    }
   ],
   "source": [
    "df.head()"
   ]
  },
  {
   "cell_type": "code",
   "execution_count": 5,
   "metadata": {},
   "outputs": [
    {
     "data": {
      "text/html": [
       "<div>\n",
       "<style scoped>\n",
       "    .dataframe tbody tr th:only-of-type {\n",
       "        vertical-align: middle;\n",
       "    }\n",
       "\n",
       "    .dataframe tbody tr th {\n",
       "        vertical-align: top;\n",
       "    }\n",
       "\n",
       "    .dataframe thead th {\n",
       "        text-align: right;\n",
       "    }\n",
       "</style>\n",
       "<table border=\"1\" class=\"dataframe\">\n",
       "  <thead>\n",
       "    <tr style=\"text-align: right;\">\n",
       "      <th></th>\n",
       "      <th>mean_radius</th>\n",
       "      <th>mean_texture</th>\n",
       "      <th>mean_perimeter</th>\n",
       "      <th>mean_area</th>\n",
       "      <th>mean_smoothness</th>\n",
       "      <th>diagnosis</th>\n",
       "    </tr>\n",
       "  </thead>\n",
       "  <tbody>\n",
       "    <tr>\n",
       "      <th>564</th>\n",
       "      <td>21.56</td>\n",
       "      <td>22.39</td>\n",
       "      <td>142.00</td>\n",
       "      <td>1479.0</td>\n",
       "      <td>0.11100</td>\n",
       "      <td>0</td>\n",
       "    </tr>\n",
       "    <tr>\n",
       "      <th>565</th>\n",
       "      <td>20.13</td>\n",
       "      <td>28.25</td>\n",
       "      <td>131.20</td>\n",
       "      <td>1261.0</td>\n",
       "      <td>0.09780</td>\n",
       "      <td>0</td>\n",
       "    </tr>\n",
       "    <tr>\n",
       "      <th>566</th>\n",
       "      <td>16.60</td>\n",
       "      <td>28.08</td>\n",
       "      <td>108.30</td>\n",
       "      <td>858.1</td>\n",
       "      <td>0.08455</td>\n",
       "      <td>0</td>\n",
       "    </tr>\n",
       "    <tr>\n",
       "      <th>567</th>\n",
       "      <td>20.60</td>\n",
       "      <td>29.33</td>\n",
       "      <td>140.10</td>\n",
       "      <td>1265.0</td>\n",
       "      <td>0.11780</td>\n",
       "      <td>0</td>\n",
       "    </tr>\n",
       "    <tr>\n",
       "      <th>568</th>\n",
       "      <td>7.76</td>\n",
       "      <td>24.54</td>\n",
       "      <td>47.92</td>\n",
       "      <td>181.0</td>\n",
       "      <td>0.05263</td>\n",
       "      <td>1</td>\n",
       "    </tr>\n",
       "  </tbody>\n",
       "</table>\n",
       "</div>"
      ],
      "text/plain": [
       "     mean_radius  mean_texture  mean_perimeter  mean_area  mean_smoothness  \\\n",
       "564        21.56         22.39          142.00     1479.0          0.11100   \n",
       "565        20.13         28.25          131.20     1261.0          0.09780   \n",
       "566        16.60         28.08          108.30      858.1          0.08455   \n",
       "567        20.60         29.33          140.10     1265.0          0.11780   \n",
       "568         7.76         24.54           47.92      181.0          0.05263   \n",
       "\n",
       "     diagnosis  \n",
       "564          0  \n",
       "565          0  \n",
       "566          0  \n",
       "567          0  \n",
       "568          1  "
      ]
     },
     "execution_count": 5,
     "metadata": {},
     "output_type": "execute_result"
    }
   ],
   "source": [
    "df.tail()"
   ]
  },
  {
   "cell_type": "code",
   "execution_count": 6,
   "metadata": {},
   "outputs": [
    {
     "data": {
      "text/plain": [
       "0"
      ]
     },
     "execution_count": 6,
     "metadata": {},
     "output_type": "execute_result"
    }
   ],
   "source": [
    "df.duplicated().sum()"
   ]
  },
  {
   "cell_type": "code",
   "execution_count": 7,
   "metadata": {},
   "outputs": [
    {
     "data": {
      "text/plain": [
       "mean_radius        0\n",
       "mean_texture       0\n",
       "mean_perimeter     0\n",
       "mean_area          0\n",
       "mean_smoothness    0\n",
       "diagnosis          0\n",
       "dtype: int64"
      ]
     },
     "execution_count": 7,
     "metadata": {},
     "output_type": "execute_result"
    }
   ],
   "source": [
    "df.isnull().sum()"
   ]
  },
  {
   "cell_type": "code",
   "execution_count": 8,
   "metadata": {},
   "outputs": [
    {
     "name": "stdout",
     "output_type": "stream",
     "text": [
      "<class 'pandas.core.frame.DataFrame'>\n",
      "RangeIndex: 569 entries, 0 to 568\n",
      "Data columns (total 6 columns):\n",
      " #   Column           Non-Null Count  Dtype  \n",
      "---  ------           --------------  -----  \n",
      " 0   mean_radius      569 non-null    float64\n",
      " 1   mean_texture     569 non-null    float64\n",
      " 2   mean_perimeter   569 non-null    float64\n",
      " 3   mean_area        569 non-null    float64\n",
      " 4   mean_smoothness  569 non-null    float64\n",
      " 5   diagnosis        569 non-null    int64  \n",
      "dtypes: float64(5), int64(1)\n",
      "memory usage: 26.8 KB\n"
     ]
    }
   ],
   "source": [
    "df.info()"
   ]
  },
  {
   "cell_type": "code",
   "execution_count": 9,
   "metadata": {},
   "outputs": [
    {
     "data": {
      "text/html": [
       "<div>\n",
       "<style scoped>\n",
       "    .dataframe tbody tr th:only-of-type {\n",
       "        vertical-align: middle;\n",
       "    }\n",
       "\n",
       "    .dataframe tbody tr th {\n",
       "        vertical-align: top;\n",
       "    }\n",
       "\n",
       "    .dataframe thead th {\n",
       "        text-align: right;\n",
       "    }\n",
       "</style>\n",
       "<table border=\"1\" class=\"dataframe\">\n",
       "  <thead>\n",
       "    <tr style=\"text-align: right;\">\n",
       "      <th></th>\n",
       "      <th>mean_radius</th>\n",
       "      <th>mean_texture</th>\n",
       "      <th>mean_perimeter</th>\n",
       "      <th>mean_area</th>\n",
       "      <th>mean_smoothness</th>\n",
       "      <th>diagnosis</th>\n",
       "    </tr>\n",
       "  </thead>\n",
       "  <tbody>\n",
       "    <tr>\n",
       "      <th>count</th>\n",
       "      <td>569.000000</td>\n",
       "      <td>569.000000</td>\n",
       "      <td>569.000000</td>\n",
       "      <td>569.000000</td>\n",
       "      <td>569.000000</td>\n",
       "      <td>569.000000</td>\n",
       "    </tr>\n",
       "    <tr>\n",
       "      <th>mean</th>\n",
       "      <td>14.127292</td>\n",
       "      <td>19.289649</td>\n",
       "      <td>91.969033</td>\n",
       "      <td>654.889104</td>\n",
       "      <td>0.096360</td>\n",
       "      <td>0.627417</td>\n",
       "    </tr>\n",
       "    <tr>\n",
       "      <th>std</th>\n",
       "      <td>3.524049</td>\n",
       "      <td>4.301036</td>\n",
       "      <td>24.298981</td>\n",
       "      <td>351.914129</td>\n",
       "      <td>0.014064</td>\n",
       "      <td>0.483918</td>\n",
       "    </tr>\n",
       "    <tr>\n",
       "      <th>min</th>\n",
       "      <td>6.981000</td>\n",
       "      <td>9.710000</td>\n",
       "      <td>43.790000</td>\n",
       "      <td>143.500000</td>\n",
       "      <td>0.052630</td>\n",
       "      <td>0.000000</td>\n",
       "    </tr>\n",
       "    <tr>\n",
       "      <th>25%</th>\n",
       "      <td>11.700000</td>\n",
       "      <td>16.170000</td>\n",
       "      <td>75.170000</td>\n",
       "      <td>420.300000</td>\n",
       "      <td>0.086370</td>\n",
       "      <td>0.000000</td>\n",
       "    </tr>\n",
       "    <tr>\n",
       "      <th>50%</th>\n",
       "      <td>13.370000</td>\n",
       "      <td>18.840000</td>\n",
       "      <td>86.240000</td>\n",
       "      <td>551.100000</td>\n",
       "      <td>0.095870</td>\n",
       "      <td>1.000000</td>\n",
       "    </tr>\n",
       "    <tr>\n",
       "      <th>75%</th>\n",
       "      <td>15.780000</td>\n",
       "      <td>21.800000</td>\n",
       "      <td>104.100000</td>\n",
       "      <td>782.700000</td>\n",
       "      <td>0.105300</td>\n",
       "      <td>1.000000</td>\n",
       "    </tr>\n",
       "    <tr>\n",
       "      <th>max</th>\n",
       "      <td>28.110000</td>\n",
       "      <td>39.280000</td>\n",
       "      <td>188.500000</td>\n",
       "      <td>2501.000000</td>\n",
       "      <td>0.163400</td>\n",
       "      <td>1.000000</td>\n",
       "    </tr>\n",
       "  </tbody>\n",
       "</table>\n",
       "</div>"
      ],
      "text/plain": [
       "       mean_radius  mean_texture  mean_perimeter    mean_area  \\\n",
       "count   569.000000    569.000000      569.000000   569.000000   \n",
       "mean     14.127292     19.289649       91.969033   654.889104   \n",
       "std       3.524049      4.301036       24.298981   351.914129   \n",
       "min       6.981000      9.710000       43.790000   143.500000   \n",
       "25%      11.700000     16.170000       75.170000   420.300000   \n",
       "50%      13.370000     18.840000       86.240000   551.100000   \n",
       "75%      15.780000     21.800000      104.100000   782.700000   \n",
       "max      28.110000     39.280000      188.500000  2501.000000   \n",
       "\n",
       "       mean_smoothness   diagnosis  \n",
       "count       569.000000  569.000000  \n",
       "mean          0.096360    0.627417  \n",
       "std           0.014064    0.483918  \n",
       "min           0.052630    0.000000  \n",
       "25%           0.086370    0.000000  \n",
       "50%           0.095870    1.000000  \n",
       "75%           0.105300    1.000000  \n",
       "max           0.163400    1.000000  "
      ]
     },
     "execution_count": 9,
     "metadata": {},
     "output_type": "execute_result"
    }
   ],
   "source": [
    "df.describe()"
   ]
  },
  {
   "cell_type": "code",
   "execution_count": 10,
   "metadata": {},
   "outputs": [
    {
     "name": "stderr",
     "output_type": "stream",
     "text": [
      "C:\\Users\\pcc\\AppData\\Local\\Temp\\ipykernel_11856\\107776459.py:1: UserWarning: \n",
      "\n",
      "`distplot` is a deprecated function and will be removed in seaborn v0.14.0.\n",
      "\n",
      "Please adapt your code to use either `displot` (a figure-level function with\n",
      "similar flexibility) or `histplot` (an axes-level function for histograms).\n",
      "\n",
      "For a guide to updating your code to use the new functions, please see\n",
      "https://gist.github.com/mwaskom/de44147ed2974457ad6372750bbe5751\n",
      "\n",
      "  sns.distplot(df)\n"
     ]
    },
    {
     "data": {
      "text/plain": [
       "<Axes: ylabel='Density'>"
      ]
     },
     "execution_count": 10,
     "metadata": {},
     "output_type": "execute_result"
    },
    {
     "data": {
      "image/png": "[encoded data removed]",
      "text/plain": [
       "<Figure size 640x480 with 1 Axes>"
      ]
     },
     "metadata": {},
     "output_type": "display_data"
    }
   ],
   "source": [
    "sns.distplot(df)"
   ]
  },
  {
   "cell_type": "code",
   "execution_count": 11,
   "metadata": {},
   "outputs": [
    {
     "data": {
      "text/plain": [
       "<Axes: ylabel='count'>"
      ]
     },
     "execution_count": 11,
     "metadata": {},
     "output_type": "execute_result"
    },
    {
     "data": {
      "image/png": "[encoded data removed]",
      "text/plain": [
       "<Figure size 640x480 with 1 Axes>"
      ]
     },
     "metadata": {},
     "output_type": "display_data"
    }
   ],
   "source": [
    "sns.countplot(df)"
   ]
  },
  {
   "cell_type": "code",
   "execution_count": 12,
   "metadata": {},
   "outputs": [
    {
     "data": {
      "text/plain": [
       "<Axes: ylabel='Density'>"
      ]
     },
     "execution_count": 12,
     "metadata": {},
     "output_type": "execute_result"
    },
    {
     "data": {
      "image/png": "[encoded data removed]",
      "text/plain": [
       "<Figure size 640x480 with 1 Axes>"
      ]
     },
     "metadata": {},
     "output_type": "display_data"
    }
   ],
   "source": [
    "sns.kdeplot(df)"
   ]
  },
  {
   "cell_type": "code",
   "execution_count": 13,
   "metadata": {},
   "outputs": [
    {
     "data": {
      "text/plain": [
       "(569, 6)"
      ]
     },
     "execution_count": 13,
     "metadata": {},
     "output_type": "execute_result"
    }
   ],
   "source": [
    "df.shape"
   ]
  },
  {
   "cell_type": "code",
   "execution_count": 14,
   "metadata": {},
   "outputs": [],
   "source": [
    "x=df.drop(columns='diagnosis',axis=1)\n",
    "y=df['diagnosis']"
   ]
  },
  {
   "cell_type": "code",
   "execution_count": 15,
   "metadata": {},
   "outputs": [
    {
     "name": "stdout",
     "output_type": "stream",
     "text": [
      "     mean_radius  mean_texture  mean_perimeter  mean_area  mean_smoothness\n",
      "0          17.99         10.38          122.80     1001.0          0.11840\n",
      "1          20.57         17.77          132.90     1326.0          0.08474\n",
      "2          19.69         21.25          130.00     1203.0          0.10960\n",
      "3          11.42         20.38           77.58      386.1          0.14250\n",
      "4          20.29         14.34          135.10     1297.0          0.10030\n",
      "..           ...           ...             ...        ...              ...\n",
      "564        21.56         22.39          142.00     1479.0          0.11100\n",
      "565        20.13         28.25          131.20     1261.0          0.09780\n",
      "566        16.60         28.08          108.30      858.1          0.08455\n",
      "567        20.60         29.33          140.10     1265.0          0.11780\n",
      "568         7.76         24.54           47.92      181.0          0.05263\n",
      "\n",
      "[569 rows x 5 columns]\n",
      "(569, 5)\n"
     ]
    }
   ],
   "source": [
    "print(x)\n",
    "print(x.shape)"
   ]
  },
  {
   "cell_type": "code",
   "execution_count": 16,
   "metadata": {},
   "outputs": [],
   "source": [
    "from sklearn.model_selection import train_test_split"
   ]
  },
  {
   "cell_type": "code",
   "execution_count": 17,
   "metadata": {},
   "outputs": [],
   "source": [
    "x_train , x_test ,y_train , y_test =train_test_split(x,y,test_size=0.2,random_state=2)"
   ]
  },
  {
   "cell_type": "code",
   "execution_count": 18,
   "metadata": {},
   "outputs": [
    {
     "name": "stdout",
     "output_type": "stream",
     "text": [
      "(569, 5) (455, 5) (114, 5)\n"
     ]
    }
   ],
   "source": [
    "print(x.shape,x_train.shape,x_test.shape)"
   ]
  },
  {
   "cell_type": "code",
   "execution_count": 19,
   "metadata": {},
   "outputs": [
    {
     "name": "stdout",
     "output_type": "stream",
     "text": [
      "(569,) (455,) (114,)\n"
     ]
    }
   ],
   "source": [
    "print(y.shape,y_train.shape,y_test.shape)"
   ]
  },
  {
   "cell_type": "code",
   "execution_count": 20,
   "metadata": {},
   "outputs": [],
   "source": [
    "from sklearn.preprocessing import StandardScaler\n",
    "sc=StandardScaler()"
   ]
  },
  {
   "cell_type": "code",
   "execution_count": 21,
   "metadata": {},
   "outputs": [],
   "source": [
    "x_train=sc.fit_transform(x_train)\n",
    "x_test=sc.fit_transform(x_test)"
   ]
  },
  {
   "cell_type": "code",
   "execution_count": 22,
   "metadata": {},
   "outputs": [
    {
     "data": {
      "text/plain": [
       "array([[-0.01330339,  1.7757658 , -0.01491962, -0.14478895,  0.22879041],\n",
       "       [-0.8448276 , -0.6284278 , -0.87702746, -0.76561031, -1.01982093],\n",
       "       [ 1.44755936,  0.71180168,  1.47428816,  1.40542437, -0.75858166],\n",
       "       ...,\n",
       "       [-0.46608541, -1.49375484, -0.53234924, -0.49327554, -1.56687843],\n",
       "       [-0.50025764, -1.62161319, -0.527814  , -0.51818766, -0.42149874],\n",
       "       [ 0.96060511,  1.21181916,  1.00427242,  0.94285159,  0.62275607]])"
      ]
     },
     "execution_count": 22,
     "metadata": {},
     "output_type": "execute_result"
    }
   ],
   "source": [
    "x_train"
   ]
  },
  {
   "cell_type": "code",
   "execution_count": 23,
   "metadata": {},
   "outputs": [
    {
     "data": {
      "text/plain": [
       "array([[-8.70033890e-02, -1.47192915e+00, -1.05373911e-01,\n",
       "        -2.14796744e-01,  2.05627941e+00],\n",
       "       [ 1.99890922e-01,  3.57734227e-02,  1.70617903e-01,\n",
       "         5.53159069e-02, -5.87425771e-01],\n",
       "       [-1.28858427e+00, -2.18476589e-01, -1.30667757e+00,\n",
       "        -1.10811237e+00, -1.10358495e+00],\n",
       "       [ 2.25596681e+00,  1.80695930e-01,  2.46110354e+00,\n",
       "         2.43932842e+00,  2.64747495e+00],\n",
       "       [ 4.80056983e-02, -6.15106608e-01,  5.23356972e-02,\n",
       "        -7.84348256e-02, -1.21470339e-02],\n",
       "       [ 1.49091532e+00,  2.49437104e+00,  1.67255550e+00,\n",
       "         1.56313056e+00, -3.84297047e-01],\n",
       "       [-7.02982350e-01,  3.10363436e-01, -6.88981602e-01,\n",
       "        -7.20786500e-01,  8.51150043e-01],\n",
       "       [-2.95142399e-01, -7.98166616e-01, -3.61652025e-01,\n",
       "        -3.79881704e-01, -9.51996353e-01],\n",
       "       [-5.62347884e-01, -2.59156591e-01, -5.99859245e-01,\n",
       "        -6.03283145e-01, -8.43610504e-01],\n",
       "       [ 1.57700582e-01, -1.08292663e+00,  7.32815045e-02,\n",
       "         3.61672120e-02, -9.81556130e-01],\n",
       "       [-2.30450544e-01,  1.70525929e-01, -2.88957752e-01,\n",
       "        -2.98354685e-01, -5.44980963e-01],\n",
       "       [-8.18302612e-01,  5.84953448e-01, -8.37655764e-01,\n",
       "        -7.88387196e-01, -7.64026489e-01],\n",
       "       [-6.63604700e-01, -4.06621598e-01, -6.84874581e-01,\n",
       "        -6.74945685e-01,  1.88195252e+00],\n",
       "       [-5.67973263e-01,  1.52728428e-01, -5.88770289e-01,\n",
       "        -6.01252223e-01, -1.37207629e-01],\n",
       "       [-7.67674205e-01, -5.32140814e-02, -8.02335383e-01,\n",
       "        -7.52120728e-01, -1.84200095e-01],\n",
       "       [ 1.38965850e+00, -7.67656615e-01,  1.37274296e+00,\n",
       "         1.41806469e+00, -8.13292784e-01],\n",
       "       [-8.26740680e-01,  2.05184220e-02, -8.65583507e-01,\n",
       "        -7.95350357e-01, -1.23395115e+00],\n",
       "       [-7.62048826e-01, -1.14903163e+00, -7.48533407e-01,\n",
       "        -7.69818764e-01,  1.64453685e-01],\n",
       "       [-7.05795040e-01, -1.25581664e+00, -7.65372194e-01,\n",
       "        -6.99026619e-01, -1.48104057e+00],\n",
       "       [ 8.29933329e-01,  1.41380849e+00,  8.75793417e-01,\n",
       "         7.57724852e-01,  7.14720303e-01],\n",
       "       [-1.27086432e+00, -9.20206622e-01, -1.19496660e+00,\n",
       "        -1.06778406e+00,  7.22299733e-01],\n",
       "       [-7.84550341e-01, -2.03221588e-01, -7.92067830e-01,\n",
       "        -7.69238501e-01, -6.92779847e-01],\n",
       "       [-2.95142399e-01, -3.88824097e-01, -3.59187812e-01,\n",
       "        -3.67406040e-01, -1.93429048e+00],\n",
       "       [-4.30151486e-01, -1.31683664e+00, -4.55702807e-01,\n",
       "        -5.11021251e-01, -7.58142458e-02],\n",
       "       [ 7.89452809e-02, -1.26598664e+00,  4.04253361e-02,\n",
       "        -6.97308734e-02,  9.26944343e-01],\n",
       "       [ 1.58654676e+00,  3.30703437e-01,  1.54523785e+00,\n",
       "         1.58343979e+00,  4.57019683e-01],\n",
       "       [-1.06692214e-01,  4.42573442e-01, -1.27551825e-01,\n",
       "        -2.42069128e-01, -1.43271173e-01],\n",
       "       [ 2.22392436e-01, -5.64256605e-01,  2.40437261e-01,\n",
       "         6.14086735e-02,  8.79014421e-02],\n",
       "       [ 1.77780963e+00, -3.02379093e-01,  1.64380635e+00,\n",
       "         1.90838734e+00, -9.80040244e-01],\n",
       "       [ 1.74124467e+00,  7.17163455e-01,  1.68076954e+00,\n",
       "         1.81264386e+00, -4.67670777e-01],\n",
       "       [ 2.87084291e-01, -1.53803415e+00,  2.17437943e-01,\n",
       "         1.66146232e-01, -1.20135960e+00],\n",
       "       [-6.32665117e-01, -8.41389118e-01, -6.54071923e-01,\n",
       "        -6.52605541e-01, -3.33694378e-02],\n",
       "       [-4.18900729e-01, -1.42107915e+00, -4.34756999e-01,\n",
       "        -4.76205442e-01, -7.37498484e-01],\n",
       "       [ 1.82281266e+00,  3.09185857e+00,  1.75880294e+00,\n",
       "         2.17820986e+00, -2.25886960e-01],\n",
       "       [ 1.55841986e+00,  1.56635849e+00,  1.54113083e+00,\n",
       "         1.51961080e+00,  2.90272223e-01],\n",
       "       [-4.75154515e-01,  2.81459224e-02, -4.49952977e-01,\n",
       "        -5.29299551e-01, -7.63268546e-01],\n",
       "       [-3.48583496e-01,  8.29033460e-01, -4.46256658e-01,\n",
       "        -4.11506064e-01, -2.66494753e+00],\n",
       "       [-2.27637855e-01,  6.66313452e-01, -2.74993880e-01,\n",
       "        -3.05317847e-01, -1.21651846e+00],\n",
       "       [-1.05738120e+00, -8.88090831e-02, -1.06847035e+00,\n",
       "        -9.68849139e-01,  6.91982013e-01],\n",
       "       [-1.23008033e+00,  1.12048426e-01, -1.18798466e+00,\n",
       "        -1.07329657e+00,  2.14477923e-01],\n",
       "       [ 1.78624770e+00,  2.63675104e+00,  1.93951187e+00,\n",
       "         1.73140697e+00,  1.52571931e+00],\n",
       "       [ 5.23350194e-01, -2.31189090e-01,  5.02054502e-01,\n",
       "         4.20011505e-01, -3.48853238e-02],\n",
       "       [-8.57680263e-01,  2.64692105e+00, -9.11992845e-01,\n",
       "        -8.18851029e-01, -1.75693182e+00],\n",
       "       [-1.12488575e+00, -7.06636612e-01, -1.08243422e+00,\n",
       "        -9.98152444e-01,  6.38926003e-01],\n",
       "       [-2.38888612e-01,  3.96808440e-01, -1.73961163e-01,\n",
       "        -3.23596147e-01,  9.80000353e-01],\n",
       "       [-7.45172690e-01, -1.52371586e-01, -7.80157469e-01,\n",
       "        -7.41385854e-01, -9.54270182e-01],\n",
       "       [-1.59713629e+00, -1.48972665e+00, -1.57486604e+00,\n",
       "        -1.29669801e+00,  4.49440253e-01],\n",
       "       [-8.52054884e-01,  2.29003432e-01, -8.59833678e-01,\n",
       "        -8.15079316e-01,  5.85869993e-01],\n",
       "       [ 2.09845621e+00, -4.34589099e-01,  1.97236804e+00,\n",
       "         2.54667717e+00, -2.90312115e-01],\n",
       "       [ 1.14214184e+00,  4.12063440e-01,  1.14685681e+00,\n",
       "         1.11342637e+00,  6.91982013e-01],\n",
       "       [ 2.64582776e-01, -1.46175915e+00,  1.96081434e-01,\n",
       "         1.26398183e-01, -1.36734912e+00],\n",
       "       [ 1.06338654e+00, -5.36289104e-01,  1.01132511e+00,\n",
       "         9.33544687e-01, -6.21533206e-01],\n",
       "       [ 6.33045077e-01, -1.70169087e-01,  5.63659818e-01,\n",
       "         4.92834572e-01, -6.14133288e-02],\n",
       "       [-7.73299583e-01, -1.29489085e-01, -8.04799596e-01,\n",
       "        -7.56762836e-01, -3.19871892e-01],\n",
       "       [-1.14457457e+00, -3.63399096e-01, -1.13993251e+00,\n",
       "        -1.03035707e+00,  6.38926003e-01],\n",
       "       [ 2.44893951e-01, -5.79511606e-01,  2.42490772e-01,\n",
       "         1.40324507e-01, -6.75347158e-01],\n",
       "       [-7.14233108e-01, -5.82054106e-01, -7.45658493e-01,\n",
       "        -7.09761494e-01,  5.63131703e-01],\n",
       "       [-1.14738726e+00, -1.03716163e+00, -1.16334253e+00,\n",
       "        -1.03383865e+00,  1.19222439e+00],\n",
       "       [-7.95801098e-01,  3.61213438e-01, -6.28197691e-01,\n",
       "        -8.18560897e-01,  3.39783852e+00],\n",
       "       [-1.06019389e+00, -1.01173663e+00, -1.04259611e+00,\n",
       "        -9.70880061e-01,  3.71192611e-02],\n",
       "       [-5.00468719e-01, -9.13515832e-02, -4.84041252e-01,\n",
       "        -5.40614689e-01,  1.50052768e-01],\n",
       "       [ 1.83014786e-01,  9.07850964e-01,  3.78843871e-01,\n",
       "         4.86428769e-02,  1.36409794e-01],\n",
       "       [-7.92988408e-01, -9.07494121e-01, -8.13835042e-01,\n",
       "        -7.78812848e-01, -9.70366498e-02],\n",
       "       [ 7.79304922e-01,  1.27651348e+00,  8.18295123e-01,\n",
       "         6.70395198e-01,  1.66972848e+00],\n",
       "       [ 1.66248937e+00,  1.78153429e-01,  1.56987997e+00,\n",
       "         1.75751883e+00, -1.32414637e+00],\n",
       "       [ 3.00266921e-03,  1.75610929e-01,  2.03474072e-01,\n",
       "        -1.11219712e-01, -1.46284994e+00],\n",
       "       [ 1.56404524e+00,  8.11235959e-01,  1.52470274e+00,\n",
       "         1.71690039e+00,  4.84884061e-02],\n",
       "       [ 1.11682764e+00, -6.59265820e-02,  1.12632170e+00,\n",
       "         1.05830134e+00,  1.29833641e+00],\n",
       "       [ 1.01275814e+00, -1.45667415e+00,  8.92221502e-01,\n",
       "         9.39637453e-01, -1.46209199e+00],\n",
       "       [-6.88918904e-01, -6.04936607e-01, -5.70288694e-01,\n",
       "        -6.85390428e-01,  8.66308903e-01],\n",
       "       [ 5.62727844e-01,  1.40015928e-01,  6.95084491e-01,\n",
       "         4.28135194e-01,  3.73645953e-01],\n",
       "       [ 1.06901192e+00, -7.14264112e-01,  1.12221468e+00,\n",
       "         9.79965765e-01,  6.69243723e-01],\n",
       "       [-3.87961146e-01, -6.99009112e-01, -4.31060680e-01,\n",
       "        -4.52704771e-01, -2.59236452e-01],\n",
       "       [ 3.40525388e-01,  1.32388427e-01,  3.62415786e-01,\n",
       "         2.34037059e-01,  8.73888333e-01],\n",
       "       [-1.07144465e+00, -8.89696621e-01, -1.07832720e+00,\n",
       "        -9.82485330e-01,  5.78290563e-01],\n",
       "       [ 1.49262514e-01,  1.26634348e+00,  1.85813881e-01,\n",
       "         1.90876145e-04,  1.48024273e+00],\n",
       "       [-1.34568186e+00,  5.21390945e-01, -1.34569427e+00,\n",
       "        -1.15714464e+00,  5.10075693e-01],\n",
       "       [-7.98613787e-01, -2.06941668e+00, -8.02335383e-01,\n",
       "        -7.68658237e-01, -2.98649488e-01],\n",
       "       [ 2.55041838e-02, -1.39565414e+00, -1.50194480e-02,\n",
       "        -7.84348256e-02,  1.05334131e-01],\n",
       "       [-7.57526318e-02,  1.67983429e-01, -7.21070406e-02,\n",
       "        -1.99419762e-01,  6.31346573e-01],\n",
       "       [ 1.66811475e+00,  1.47643428e-01,  1.68076954e+00,\n",
       "         1.68788721e+00,  1.18464496e+00],\n",
       "       [ 2.33643193e-01,  1.72399350e+00,  2.10456008e-01,\n",
       "         1.40324507e-01,  3.58487093e-01],\n",
       "       [ 2.95522359e-01,  1.60449600e+00,  3.91164934e-01,\n",
       "         1.86165322e-01,  7.98094033e-01],\n",
       "       [-6.63604700e-01, -1.54914086e-01, -6.38875945e-01,\n",
       "        -6.84810164e-01, -3.06228918e-01],\n",
       "       [-6.63604700e-01,  5.62070947e-01, -6.77071241e-01,\n",
       "        -6.80168056e-01,  4.52771213e-03],\n",
       "       [ 7.28676514e-01,  1.27303427e-01,  6.37586197e-01,\n",
       "         6.14980035e-01, -1.75996359e+00],\n",
       "       [-1.22220480e+00, -2.28646590e-01, -1.16128902e+00,\n",
       "        -1.06140116e+00, -5.15600698e-02],\n",
       "       [-5.79224020e-01, -1.44141915e+00, -5.66592375e-01,\n",
       "        -6.16339073e-01,  6.76823153e-01],\n",
       "       [-5.22970234e-01, -3.76111597e-01, -5.02522846e-01,\n",
       "        -5.95739720e-01,  4.94916833e-01],\n",
       "       [ 3.96779174e-01,  1.07819847e+00,  7.11512575e-01,\n",
       "         3.05409468e-01,  1.00273864e+00],\n",
       "       [-7.76112273e-01, -1.11089413e+00, -7.75639746e-01,\n",
       "        -7.64016129e-01,  5.25234553e-01],\n",
       "       [ 1.09884863e-01, -5.36289104e-01,  5.47999098e-02,\n",
       "        -6.48215390e-03, -8.53463763e-01],\n",
       "       [-8.37991438e-01, -8.79526620e-01, -8.00692575e-01,\n",
       "        -8.01443124e-01, -1.06265603e+00],\n",
       "       [ 1.49091532e+00,  1.08074097e+00,  1.47952551e+00,\n",
       "         1.46738709e+00,  2.52375073e-01],\n",
       "       [ 4.08029931e-01,  3.43415937e-01,  3.41880681e-01,\n",
       "         2.85390377e-01, -1.28870256e-01],\n",
       "       [-3.28894671e-01, -8.26134118e-01, -2.97582496e-01,\n",
       "        -4.30074496e-01,  7.45038023e-01],\n",
       "       [ 1.45997574e+00, -3.54165806e-02,  1.44666934e+00,\n",
       "         1.44707787e+00,  8.51150043e-01],\n",
       "       [ 5.90854737e-01,  1.10108097e+00,  6.62228323e-01,\n",
       "         4.99507602e-01, -1.89685209e-02],\n",
       "       [-2.92329709e-01,  1.59941100e+00, -3.60419918e-01,\n",
       "        -3.78140914e-01, -7.39772313e-01],\n",
       "       [-7.28296554e-01, -4.80354101e-01, -7.87550107e-01,\n",
       "        -7.17304919e-01, -1.67204220e+00],\n",
       "       [-9.42060942e-01, -1.52532165e+00, -9.93311862e-01,\n",
       "        -8.74556323e-01, -1.70690758e+00],\n",
       "       [-1.51695243e-01,  4.75625943e-01, -1.09891634e-01,\n",
       "        -2.62088218e-01,  1.60909304e+00],\n",
       "       [ 2.48660734e+00,  2.21375931e-01,  2.43235439e+00,\n",
       "         2.94125633e+00, -3.22145721e-01],\n",
       "       [ 2.07032932e+00,  8.44288461e-01,  2.11611377e+00,\n",
       "         2.14339405e+00,  1.44234558e+00],\n",
       "       [-5.62347884e-01,  8.84968463e-01, -6.03555564e-01,\n",
       "        -5.85294977e-01, -1.19378017e+00],\n",
       "       [-1.12207306e+00, -6.04936607e-01, -1.10995126e+00,\n",
       "        -1.00801692e+00, -6.74589215e-01],\n",
       "       [-1.49053536e+00, -8.13421617e-01, -1.40196046e+00,\n",
       "        -1.22735652e+00, -2.31192561e-01],\n",
       "       [-1.84465295e+00,  1.64771850e+00, -1.82909065e+00,\n",
       "        -1.44437506e+00, -8.32999302e-01],\n",
       "       [-1.58982329e+00, -9.13515832e-02, -1.59293693e+00,\n",
       "        -1.29698814e+00,  7.37458593e-01],\n",
       "       [-6.21414360e-01,  2.33419353e+00, -6.58178944e-01,\n",
       "        -6.33456846e-01, -7.69332090e-01],\n",
       "       [ 1.92688216e+00,  3.96808440e-01,  1.85737145e+00,\n",
       "         2.07666375e+00, -6.29292148e-02],\n",
       "       [ 6.75235417e-01,  6.15463450e-01,  7.03298533e-01,\n",
       "         6.85772180e-01,  1.09369180e+00],\n",
       "       [ 2.08328990e-01,  1.58669850e+00,  1.09423290e-01,\n",
       "         8.86810571e-02, -2.88038286e-01],\n",
       "       [ 7.87742990e-01,  3.06884225e-02,  8.42937249e-01,\n",
       "         6.57919533e-01,  1.24528040e+00]])"
      ]
     },
     "execution_count": 23,
     "metadata": {},
     "output_type": "execute_result"
    }
   ],
   "source": [
    "x_test"
   ]
  },
  {
   "cell_type": "code",
   "execution_count": 24,
   "metadata": {},
   "outputs": [],
   "source": [
    "from sklearn.neighbors import KNeighborsClassifier\n"
   ]
  },
  {
   "cell_type": "code",
   "execution_count": 25,
   "metadata": {},
   "outputs": [],
   "source": [
    "knc=KNeighborsClassifier(n_neighbors=10)"
   ]
  },
  {
   "cell_type": "code",
   "execution_count": 26,
   "metadata": {},
   "outputs": [
    {
     "data": {
      "text/html": [
       "<style>#sk-container-id-1 {color: black;background-color: white;}#sk-container-id-1 pre{padding: 0;}#sk-container-id-1 div.sk-toggleable {background-color: white;}#sk-container-id-1 label.sk-toggleable__label {cursor: pointer;display: block;width: 100%;margin-bottom: 0;padding: 0.3em;box-sizing: border-box;text-align: center;}#sk-container-id-1 label.sk-toggleable__label-arrow:before {content: \"▸\";float: left;margin-right: 0.25em;color: #696969;}#sk-container-id-1 label.sk-toggleable__label-arrow:hover:before {color: black;}#sk-container-id-1 div.sk-estimator:hover label.sk-toggleable__label-arrow:before {color: black;}#sk-container-id-1 div.sk-toggleable__content {max-height: 0;max-width: 0;overflow: hidden;text-align: left;background-color: #f0f8ff;}#sk-container-id-1 div.sk-toggleable__content pre {margin: 0.2em;color: black;border-radius: 0.25em;background-color: #f0f8ff;}#sk-container-id-1 input.sk-toggleable__control:checked~div.sk-toggleable__content {max-height: 200px;max-width: 100%;overflow: auto;}#sk-container-id-1 input.sk-toggleable__control:checked~label.sk-toggleable__label-arrow:before {content: \"▾\";}#sk-container-id-1 div.sk-estimator input.sk-toggleable__control:checked~label.sk-toggleable__label {background-color: #d4ebff;}#sk-container-id-1 div.sk-label input.sk-toggleable__control:checked~label.sk-toggleable__label {background-color: #d4ebff;}#sk-container-id-1 input.sk-hidden--visually {border: 0;clip: rect(1px 1px 1px 1px);clip: rect(1px, 1px, 1px, 1px);height: 1px;margin: -1px;overflow: hidden;padding: 0;position: absolute;width: 1px;}#sk-container-id-1 div.sk-estimator {font-family: monospace;background-color: #f0f8ff;border: 1px dotted black;border-radius: 0.25em;box-sizing: border-box;margin-bottom: 0.5em;}#sk-container-id-1 div.sk-estimator:hover {background-color: #d4ebff;}#sk-container-id-1 div.sk-parallel-item::after {content: \"\";width: 100%;border-bottom: 1px solid gray;flex-grow: 1;}#sk-container-id-1 div.sk-label:hover label.sk-toggleable__label {background-color: #d4ebff;}#sk-container-id-1 div.sk-serial::before {content: \"\";position: absolute;border-left: 1px solid gray;box-sizing: border-box;top: 0;bottom: 0;left: 50%;z-index: 0;}#sk-container-id-1 div.sk-serial {display: flex;flex-direction: column;align-items: center;background-color: white;padding-right: 0.2em;padding-left: 0.2em;position: relative;}#sk-container-id-1 div.sk-item {position: relative;z-index: 1;}#sk-container-id-1 div.sk-parallel {display: flex;align-items: stretch;justify-content: center;background-color: white;position: relative;}#sk-container-id-1 div.sk-item::before, #sk-container-id-1 div.sk-parallel-item::before {content: \"\";position: absolute;border-left: 1px solid gray;box-sizing: border-box;top: 0;bottom: 0;left: 50%;z-index: -1;}#sk-container-id-1 div.sk-parallel-item {display: flex;flex-direction: column;z-index: 1;position: relative;background-color: white;}#sk-container-id-1 div.sk-parallel-item:first-child::after {align-self: flex-end;width: 50%;}#sk-container-id-1 div.sk-parallel-item:last-child::after {align-self: flex-start;width: 50%;}#sk-container-id-1 div.sk-parallel-item:only-child::after {width: 0;}#sk-container-id-1 div.sk-dashed-wrapped {border: 1px dashed gray;margin: 0 0.4em 0.5em 0.4em;box-sizing: border-box;padding-bottom: 0.4em;background-color: white;}#sk-container-id-1 div.sk-label label {font-family: monospace;font-weight: bold;display: inline-block;line-height: 1.2em;}#sk-container-id-1 div.sk-label-container {text-align: center;}#sk-container-id-1 div.sk-container {/* jupyter's `normalize.less` sets `[hidden] { display: none; }` but bootstrap.min.css set `[hidden] { display: none !important; }` so we also need the `!important` here to be able to override the default hidden behavior on the sphinx rendered scikit-learn.org. See: https://github.com/scikit-learn/scikit-learn/issues/21755 */display: inline-block !important;position: relative;}#sk-container-id-1 div.sk-text-repr-fallback {display: none;}</style><div id=\"sk-container-id-1\" class=\"sk-top-container\"><div class=\"sk-text-repr-fallback\"><pre>KNeighborsClassifier(n_neighbors=10)</pre><b>In a Jupyter environment, please rerun this cell to show the HTML representation or trust the notebook. <br />On GitHub, the HTML representation is unable to render, please try loading this page with nbviewer.org.</b></div><div class=\"sk-container\" hidden><div class=\"sk-item\"><div class=\"sk-estimator sk-toggleable\"><input class=\"sk-toggleable__control sk-hidden--visually\" id=\"sk-estimator-id-1\" type=\"checkbox\" checked><label for=\"sk-estimator-id-1\" class=\"sk-toggleable__label sk-toggleable__label-arrow\">KNeighborsClassifier</label><div class=\"sk-toggleable__content\"><pre>KNeighborsClassifier(n_neighbors=10)</pre></div></div></div></div></div>"
      ],
      "text/plain": [
       "KNeighborsClassifier(n_neighbors=10)"
      ]
     },
     "execution_count": 26,
     "metadata": {},
     "output_type": "execute_result"
    }
   ],
   "source": [
    "knc.fit(x_train,y_train)"
   ]
  },
  {
   "cell_type": "code",
   "execution_count": 27,
   "metadata": {},
   "outputs": [],
   "source": [
    "from sklearn.metrics import accuracy_score,precision_score,recall_score,f1_score,confusion_matrix"
   ]
  },
  {
   "cell_type": "code",
   "execution_count": 28,
   "metadata": {},
   "outputs": [
    {
     "data": {
      "text/plain": [
       "0.9473684210526315"
      ]
     },
     "execution_count": 28,
     "metadata": {},
     "output_type": "execute_result"
    }
   ],
   "source": [
    "y_pred=knc.predict(x_test)\n",
    "accuracy_score(y_test,y_pred)"
   ]
  },
  {
   "cell_type": "code",
   "execution_count": 29,
   "metadata": {},
   "outputs": [
    {
     "data": {
      "text/plain": [
       "0.9436619718309859"
      ]
     },
     "execution_count": 29,
     "metadata": {},
     "output_type": "execute_result"
    }
   ],
   "source": [
    "y_pred=knc.predict(x_test)\n",
    "precision_score(y_test,y_pred)"
   ]
  },
  {
   "cell_type": "code",
   "execution_count": 30,
   "metadata": {},
   "outputs": [
    {
     "data": {
      "text/plain": [
       "0.9710144927536232"
      ]
     },
     "execution_count": 30,
     "metadata": {},
     "output_type": "execute_result"
    }
   ],
   "source": [
    "y_pred=knc.predict(x_test)\n",
    "recall_score(y_test,y_pred)"
   ]
  },
  {
   "cell_type": "code",
   "execution_count": 31,
   "metadata": {},
   "outputs": [
    {
     "data": {
      "text/plain": [
       "0.9571428571428571"
      ]
     },
     "execution_count": 31,
     "metadata": {},
     "output_type": "execute_result"
    }
   ],
   "source": [
    "f1_score(y_test,y_pred)"
   ]
  },
  {
   "cell_type": "code",
   "execution_count": 32,
   "metadata": {},
   "outputs": [
    {
     "data": {
      "text/plain": [
       "array([[41,  4],\n",
       "       [ 2, 67]], dtype=int64)"
      ]
     },
     "execution_count": 32,
     "metadata": {},
     "output_type": "execute_result"
    }
   ],
   "source": [
    "confusion_matrix(y_test,y_pred)"
   ]
  },
  {
   "cell_type": "code",
   "execution_count": 33,
   "metadata": {},
   "outputs": [
    {
     "name": "stdout",
     "output_type": "stream",
     "text": [
      "[0.9035087719298246, 0.9035087719298246, 0.9210526315789473, 0.9122807017543859, 0.9210526315789473, 0.9385964912280702, 0.9210526315789473, 0.9298245614035088, 0.9210526315789473, 0.9473684210526315, 0.9385964912280702, 0.9298245614035088, 0.9298245614035088, 0.9385964912280702]\n"
     ]
    }
   ],
   "source": [
    "from sklearn.neighbors import KNeighborsClassifier\n",
    "from sklearn.metrics import accuracy_score\n",
    "\n",
    "score = []\n",
    "\n",
    "for i in range(1, 15):\n",
    "    knc = KNeighborsClassifier(n_neighbors=i)\n",
    "    knc.fit(x_train, y_train)\n",
    "    y_pred = knc.predict(x_test)  # Change y_test to x_test\n",
    "    score.append(accuracy_score(y_test, y_pred))\n",
    "\n",
    "print(score)\n"
   ]
  },
  {
   "cell_type": "code",
   "execution_count": 34,
   "metadata": {},
   "outputs": [
    {
     "data": {
      "text/plain": [
       "[<matplotlib.lines.Line2D at 0x264e41206d0>]"
      ]
     },
     "execution_count": 34,
     "metadata": {},
     "output_type": "execute_result"
    },
    {
     "data": {
      "image/png": "[encoded data removed]",
      "text/plain": [
       "<Figure size 640x480 with 1 Axes>"
      ]
     },
     "metadata": {},
     "output_type": "display_data"
    }
   ],
   "source": [
    "plt.plot(range(1,15),score)"
   ]
  },
  {
   "cell_type": "code",
   "execution_count": 35,
   "metadata": {},
   "outputs": [
    {
     "data": {
      "text/html": [
       "<div>\n",
       "<style scoped>\n",
       "    .dataframe tbody tr th:only-of-type {\n",
       "        vertical-align: middle;\n",
       "    }\n",
       "\n",
       "    .dataframe tbody tr th {\n",
       "        vertical-align: top;\n",
       "    }\n",
       "\n",
       "    .dataframe thead th {\n",
       "        text-align: right;\n",
       "    }\n",
       "</style>\n",
       "<table border=\"1\" class=\"dataframe\">\n",
       "  <thead>\n",
       "    <tr style=\"text-align: right;\">\n",
       "      <th></th>\n",
       "      <th>mean_radius</th>\n",
       "      <th>mean_texture</th>\n",
       "      <th>mean_perimeter</th>\n",
       "      <th>mean_area</th>\n",
       "      <th>mean_smoothness</th>\n",
       "      <th>diagnosis</th>\n",
       "    </tr>\n",
       "  </thead>\n",
       "  <tbody>\n",
       "    <tr>\n",
       "      <th>0</th>\n",
       "      <td>17.99</td>\n",
       "      <td>10.38</td>\n",
       "      <td>122.80</td>\n",
       "      <td>1001.0</td>\n",
       "      <td>0.11840</td>\n",
       "      <td>0</td>\n",
       "    </tr>\n",
       "    <tr>\n",
       "      <th>1</th>\n",
       "      <td>20.57</td>\n",
       "      <td>17.77</td>\n",
       "      <td>132.90</td>\n",
       "      <td>1326.0</td>\n",
       "      <td>0.08474</td>\n",
       "      <td>0</td>\n",
       "    </tr>\n",
       "    <tr>\n",
       "      <th>2</th>\n",
       "      <td>19.69</td>\n",
       "      <td>21.25</td>\n",
       "      <td>130.00</td>\n",
       "      <td>1203.0</td>\n",
       "      <td>0.10960</td>\n",
       "      <td>0</td>\n",
       "    </tr>\n",
       "    <tr>\n",
       "      <th>3</th>\n",
       "      <td>11.42</td>\n",
       "      <td>20.38</td>\n",
       "      <td>77.58</td>\n",
       "      <td>386.1</td>\n",
       "      <td>0.14250</td>\n",
       "      <td>0</td>\n",
       "    </tr>\n",
       "    <tr>\n",
       "      <th>4</th>\n",
       "      <td>20.29</td>\n",
       "      <td>14.34</td>\n",
       "      <td>135.10</td>\n",
       "      <td>1297.0</td>\n",
       "      <td>0.10030</td>\n",
       "      <td>0</td>\n",
       "    </tr>\n",
       "    <tr>\n",
       "      <th>...</th>\n",
       "      <td>...</td>\n",
       "      <td>...</td>\n",
       "      <td>...</td>\n",
       "      <td>...</td>\n",
       "      <td>...</td>\n",
       "      <td>...</td>\n",
       "    </tr>\n",
       "    <tr>\n",
       "      <th>564</th>\n",
       "      <td>21.56</td>\n",
       "      <td>22.39</td>\n",
       "      <td>142.00</td>\n",
       "      <td>1479.0</td>\n",
       "      <td>0.11100</td>\n",
       "      <td>0</td>\n",
       "    </tr>\n",
       "    <tr>\n",
       "      <th>565</th>\n",
       "      <td>20.13</td>\n",
       "      <td>28.25</td>\n",
       "      <td>131.20</td>\n",
       "      <td>1261.0</td>\n",
       "      <td>0.09780</td>\n",
       "      <td>0</td>\n",
       "    </tr>\n",
       "    <tr>\n",
       "      <th>566</th>\n",
       "      <td>16.60</td>\n",
       "      <td>28.08</td>\n",
       "      <td>108.30</td>\n",
       "      <td>858.1</td>\n",
       "      <td>0.08455</td>\n",
       "      <td>0</td>\n",
       "    </tr>\n",
       "    <tr>\n",
       "      <th>567</th>\n",
       "      <td>20.60</td>\n",
       "      <td>29.33</td>\n",
       "      <td>140.10</td>\n",
       "      <td>1265.0</td>\n",
       "      <td>0.11780</td>\n",
       "      <td>0</td>\n",
       "    </tr>\n",
       "    <tr>\n",
       "      <th>568</th>\n",
       "      <td>7.76</td>\n",
       "      <td>24.54</td>\n",
       "      <td>47.92</td>\n",
       "      <td>181.0</td>\n",
       "      <td>0.05263</td>\n",
       "      <td>1</td>\n",
       "    </tr>\n",
       "  </tbody>\n",
       "</table>\n",
       "<p>569 rows × 6 columns</p>\n",
       "</div>"
      ],
      "text/plain": [
       "     mean_radius  mean_texture  mean_perimeter  mean_area  mean_smoothness  \\\n",
       "0          17.99         10.38          122.80     1001.0          0.11840   \n",
       "1          20.57         17.77          132.90     1326.0          0.08474   \n",
       "2          19.69         21.25          130.00     1203.0          0.10960   \n",
       "3          11.42         20.38           77.58      386.1          0.14250   \n",
       "4          20.29         14.34          135.10     1297.0          0.10030   \n",
       "..           ...           ...             ...        ...              ...   \n",
       "564        21.56         22.39          142.00     1479.0          0.11100   \n",
       "565        20.13         28.25          131.20     1261.0          0.09780   \n",
       "566        16.60         28.08          108.30      858.1          0.08455   \n",
       "567        20.60         29.33          140.10     1265.0          0.11780   \n",
       "568         7.76         24.54           47.92      181.0          0.05263   \n",
       "\n",
       "     diagnosis  \n",
       "0            0  \n",
       "1            0  \n",
       "2            0  \n",
       "3            0  \n",
       "4            0  \n",
       "..         ...  \n",
       "564          0  \n",
       "565          0  \n",
       "566          0  \n",
       "567          0  \n",
       "568          1  \n",
       "\n",
       "[569 rows x 6 columns]"
      ]
     },
     "execution_count": 35,
     "metadata": {},
     "output_type": "execute_result"
    }
   ],
   "source": [
    "df"
   ]
  },
  {
   "cell_type": "code",
   "execution_count": 38,
   "metadata": {},
   "outputs": [
    {
     "name": "stdout",
     "output_type": "stream",
     "text": [
      "Predictions for new data:\n",
      "[0]\n"
     ]
    }
   ],
   "source": [
    "from sklearn.neighbors import KNeighborsClassifier\n",
    "\n",
    "\n",
    "new_data = [[26, 34, 23,2345, 0.123400]]\n",
    "\n",
    "new_predictions = knc.predict(new_data)\n",
    "\n",
    "print(\"Predictions for new data:\")\n",
    "print(new_predictions)\n",
    "\n",
    "\n",
    "\n"
   ]
  }
 ],
 "metadata": {
  "kernelspec": {
   "display_name": "Python 3",
   "language": "python",
   "name": "python3"
  },
  "language_info": {
   "codemirror_mode": {
    "name": "ipython",
    "version": 3
   },
   "file_extension": ".py",
   "mimetype": "text/x-python",
   "name": "python",
   "nbconvert_exporter": "python",
   "pygments_lexer": "ipython3",
   "version": "3.11.1"
  },
  "orig_nbformat": 4
 },
 "nbformat": 4,
 "nbformat_minor": 2
}
